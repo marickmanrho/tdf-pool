{
 "cells": [
  {
   "cell_type": "code",
   "execution_count": null,
   "metadata": {},
   "outputs": [],
   "source": [
    "# Import statements\n",
    "import logging\n",
    "import pandas as pd\n",
    "from pathlib import Path\n",
    "from datetime import date\n",
    "from tdf_pool.cycling_calendar import get_calendar\n",
    "from tdf_pool.race import Race\n",
    "from tdf_pool.score import get_score_template, score_race\n",
    "import numpy as np\n",
    "import seaborn as sns\n",
    "from scipy import stats\n",
    "from scipy.optimize import curve_fit\n",
    "import matplotlib.pyplot as plt\n",
    "\n",
    "logging.basicConfig(level='INFO')"
   ]
  },
  {
   "cell_type": "code",
   "execution_count": null,
   "metadata": {},
   "outputs": [],
   "source": [
    "# Load data from 2014 to 2024\n",
    "years = list(range(2023, 2024))\n",
    "tdf_races = []\n",
    "for year in years:\n",
    "    calendar = get_calendar(year)\n",
    "    tdf_entry = calendar[calendar['Name'] == \"Tour de France\"].iloc[0]\n",
    "    tdf = Race(tdf_entry['Name'], tdf_entry['Start'], tdf_entry['Type'], tdf_entry['PartialURL'])\n",
    "    tdf_races.append(tdf)"
   ]
  },
  {
   "cell_type": "code",
   "execution_count": null,
   "metadata": {},
   "outputs": [],
   "source": [
    "# Get scores for each year\n",
    "current_score_template = get_score_template()\n",
    "tdf_scores = [score_race(tdf, current_score_template) for tdf in tdf_races]\n",
    "score_template_2023 = get_score_template(Path(\"../2023_score_template.toml\"))\n",
    "tdf_scores_2023 = [score_race(tdf, score_template_2023) for tdf in tdf_races]"
   ]
  },
  {
   "cell_type": "markdown",
   "metadata": {},
   "source": [
    "# Punten distributies\n",
    "We kijken naar de punten distributie van de afgelopen 10 jaar.\n",
    "- Is de distributie veranderd over tijd?\n",
    "- Wat is het effect op de puntentelling als dit jaar de KOM punten tijdens de etape worden meegenomen?"
   ]
  },
  {
   "cell_type": "code",
   "execution_count": null,
   "metadata": {},
   "outputs": [],
   "source": [
    "# Distributie van punten per jaar\n",
    "%matplotlib widget\n",
    "all_scores = []\n",
    "bins = np.arange(0, 1000, 50)\n",
    "fig, ax = plt.subplots(1,1, figsize=(8,4))\n",
    "colors = plt.cm.rainbow(np.linspace(0,1,len(years)))\n",
    "for year, score, color in zip(years, tdf_scores, colors):\n",
    "    ax.hist(score['Total'], bins=bins, label=year, density=True, histtype='step', linewidth=1, color=color)\n",
    "ax.set_xlabel(\"Punten\")\n",
    "ax.set_ylabel(\"Percentage van renners\")\n",
    "ax.set_title(\"Distributie van TDF punten per jaar\")\n",
    "ax.legend()"
   ]
  },
  {
   "cell_type": "code",
   "execution_count": null,
   "metadata": {},
   "outputs": [],
   "source": [
    "# Cumulatieve distributie van punten per jaar\n",
    "%matplotlib widget\n",
    "all_scores = []\n",
    "bins = np.arange(0, 1000, 50)\n",
    "fig, ax = plt.subplots(1,1, figsize=(8,4))\n",
    "colors = plt.cm.rainbow(np.linspace(0,1,len(years)))\n",
    "for year, score, color in zip(years, tdf_scores, colors):\n",
    "    ax.hist(score['Total'], bins=bins, label=year, density=True, histtype='step', linewidth=1, color=color, cumulative=1)\n",
    "ax.set_xlabel(\"Punten\")\n",
    "ax.set_ylabel(\"Percentage van renners\")\n",
    "ax.set_title(\"Cumulative distributie van TDF punten per jaar\")\n",
    "ax.legend()"
   ]
  },
  {
   "cell_type": "markdown",
   "metadata": {},
   "source": [
    "De punten distributies van de afgelopen 10 jaar zijn vergelijkbaar."
   ]
  },
  {
   "cell_type": "code",
   "execution_count": null,
   "metadata": {},
   "outputs": [],
   "source": [
    "# Cumulative distributions per category\n",
    "%matplotlib widget\n",
    "all_scores = []\n",
    "fig, axs = plt.subplots(2,2, figsize=(9,9))\n",
    "\n",
    "classifications = ['GC', 'Sprint', 'Youth', 'KOM']\n",
    "for ax, classification in zip(axs.flatten(), classifications):\n",
    "    bin_max = np.max(list(score[classification].max() for score in tdf_scores))\n",
    "    bins = np.linspace(1, bin_max, 10)\n",
    "    colors = plt.cm.rainbow(np.linspace(0,1,len(years)))\n",
    "    for year, score, color in zip(years, tdf_scores, colors):\n",
    "        ax.hist(score[classification], bins=bins, label=year, density=True, histtype='step', linewidth=1, color=color, cumulative=1)\n",
    "    ax.set_xlabel(\"Punten\")\n",
    "    ax.set_ylabel(\"Percentage van renners\")\n",
    "    ax.set_title(f\"Cumulative {classification}\")\n",
    "    ax.legend()"
   ]
  },
  {
   "cell_type": "code",
   "execution_count": null,
   "metadata": {},
   "outputs": [],
   "source": [
    "# Ratio between cumulative distributions\n",
    "%matplotlib widget\n",
    "all_scores = []\n",
    "fig, ax = plt.subplots(1,1, figsize=(6,4))\n",
    "\n",
    "nbins = 20\n",
    "classifications = ['GC', 'Sprint', 'Youth', 'KOM']\n",
    "a = 'GC'\n",
    "b = 'Sprint'\n",
    "\n",
    "colors = plt.cm.rainbow(np.linspace(0,1,len(years)))\n",
    "for year, score, color in zip(years, tdf_scores, colors):\n",
    "    sprint_bins = np.linspace(1, score[a].max(), nbins)\n",
    "    sprint_h, _ = np.histogram(score[a], bins=sprint_bins, density=True)\n",
    "    sprint_cd = np.cumsum(sprint_h)*(sprint_bins[1]-sprint_bins[0])\n",
    "\n",
    "    kom_bins = np.linspace(1, score[b].max(), nbins)\n",
    "    kom_h, _ = np.histogram(score[b], bins=kom_bins, density=True)\n",
    "    kom_cd = np.cumsum(kom_h)*(kom_bins[1]-kom_bins[0])\n",
    "\n",
    "    ax.plot(sprint_cd/kom_cd, label=year, color=color)\n",
    "    ax.set_xlabel(\"bin\")\n",
    "    ax.set_ylabel(f\"CDF({a})/CDF({b})\")\n",
    "    ax.set_title(f\"Ratio of sprint and kom cumulative distribution\")\n",
    "    ax.legend(bbox_to_anchor=(1,1))\n",
    "\n",
    "fig.tight_layout()"
   ]
  },
  {
   "cell_type": "markdown",
   "metadata": {},
   "source": [
    "When there are a few sprinters who dominate, the line will be higher"
   ]
  },
  {
   "cell_type": "code",
   "execution_count": null,
   "metadata": {},
   "outputs": [],
   "source": [
    "# Distributie van punten voor huidige en 2023 puntentelling\n",
    "%matplotlib widget\n",
    "all_scores = []\n",
    "bins = np.arange(0, 1000, 25)\n",
    "fig, ax = plt.subplots(1,1, figsize=(8,4))\n",
    "\n",
    "ax.hist(pd.concat(tdf_scores)['Total'], bins=bins, label=\"huidige puntentelling\", density=True, histtype='step', linewidth=2)\n",
    "ax.hist(pd.concat(tdf_scores_2023)['Total'], bins=bins, label=\"2023 puntentelling\", density=True, histtype='step', linewidth=2, linestyle='dotted')\n",
    "\n",
    "ax.set_xlabel(\"Punten\")\n",
    "ax.set_ylabel(\"Percentage van renners\")\n",
    "ax.set_title(\"Distributie van punten gedurende TDF\")\n",
    "ax.legend()"
   ]
  },
  {
   "cell_type": "code",
   "execution_count": null,
   "metadata": {},
   "outputs": [],
   "source": [
    "# Cumulatieve distributie van punten voor huidige en 2023 puntentelling\n",
    "%matplotlib widget\n",
    "all_scores = []\n",
    "bins = np.arange(0, 1000, 25)\n",
    "fig, ax = plt.subplots(1,1, figsize=(8,4))\n",
    "\n",
    "ax.hist(pd.concat(tdf_scores)['Total'], bins=bins, label=\"huidige puntentelling\", density=True, histtype='step', linewidth=2, cumulative=1)\n",
    "ax.hist(pd.concat(tdf_scores_2023)['Total'], bins=bins, label=\"2023 puntentelling\", density=True, histtype='step', linewidth=2, linestyle='dotted', cumulative=1)\n",
    "ax.set_xlabel(\"Punten\")\n",
    "ax.set_ylabel(\"Percentage van renners\")\n",
    "ax.set_title(\"Cumulatieve distributie van punten gedurende TDF\")\n",
    "ax.legend()"
   ]
  },
  {
   "cell_type": "markdown",
   "metadata": {},
   "source": [
    "De cumulatieve distributie van punten gebaseerd op de 2023 puntentelling ligt in het begin iets hoger dan de huidige puntentelling. Dit is logisch omdat er simpelweg meer punten worden uitgedeeld. Echter blijft de distributie dezelfde vorm behouden en kunnen we stellen dat we dezelfde renners willen selecteren."
   ]
  },
  {
   "cell_type": "code",
   "execution_count": null,
   "metadata": {},
   "outputs": [],
   "source": [
    "%matplotlib widget\n",
    "plt.figure()\n",
    "huidige_punten = pd.concat(tdf_scores)['Total']\n",
    "candidates = [stats.exponweib, stats.levy, stats.norminvgauss]\n",
    "\n",
    "plt.hist(huidige_punten, bins=50, density=True)\n",
    "for dist in candidates:\n",
    "    # dist = stats.levy\n",
    "    res = stats.fit(dist, huidige_punten, bounds=[(-10, 100), (-10, 100)])\n",
    "    print(res.nllf())\n",
    "    # res.plot()\n",
    "    x = np.arange(900)\n",
    "    plt.plot(x, dist.pdf(x, *res.params))\n",
    "\n",
    "plt.ylim(0, 0.03)"
   ]
  },
  {
   "cell_type": "markdown",
   "metadata": {},
   "source": [
    "Distributie wordt het beste geift met een levy distributie"
   ]
  },
  {
   "cell_type": "code",
   "execution_count": null,
   "metadata": {},
   "outputs": [],
   "source": [
    "# Cumulative sums per category\n",
    "%matplotlib widget\n",
    "all_scores = []\n",
    "fig, axs = plt.subplots(2,2, figsize=(9,9))\n",
    "\n",
    "classifications = ['GC', 'Sprint', 'Youth', 'KOM']\n",
    "for ax, classification in zip(axs.flatten(), classifications):\n",
    "    colors = plt.cm.rainbow(np.linspace(0,1,len(years)))\n",
    "    for year, score, color in zip(years, tdf_scores, colors):\n",
    "        cumsum_score = score.sort_values(by=classification, ascending=False).reset_index()[classification].cumsum()/score[classification].sum()\n",
    "        ax.plot(cumsum_score, label=year, linewidth=1, color=color)\n",
    "    ax.set_xlabel(\"Number of riders\")\n",
    "    ax.set_ylabel(\"Percentage of points\")\n",
    "    ax.set_title(f\"Cumulative sum of {classification}\")\n",
    "    ax.set_xlim(0, 40)\n",
    "    ax.legend()"
   ]
  },
  {
   "cell_type": "code",
   "execution_count": null,
   "metadata": {},
   "outputs": [],
   "source": [
    "# Cumulative sums per category\n",
    "data = []\n",
    "classifications = ['GC', 'Sprint', 'Youth', 'KOM', 'Total']\n",
    "for year, score in zip(years, tdf_scores):\n",
    "    row = []\n",
    "    for classification in classifications:\n",
    "        cumsum_score = score.sort_values(by=classification, ascending=False).reset_index()[classification].cumsum()/score[classification].sum()\n",
    "        x = np.where(cumsum_score == 1)[0][0]\n",
    "        row.append(np.sum(cumsum_score[:x])/x )\n",
    "    data.append([year] + row)\n",
    "\n",
    "tdf_category_dominance = pd.DataFrame(data=data, columns=['year']+classifications).set_index('year')\n",
    "\n",
    "for col in tdf_category_dominance.columns:\n",
    "    tdf_category_dominance[col] -= tdf_category_dominance[col].mean()\n",
    "    tdf_category_dominance[col] /= -tdf_category_dominance[col].min()\n",
    "\n",
    "tdf_category_dominance"
   ]
  },
  {
   "cell_type": "markdown",
   "metadata": {},
   "source": [
    "Er lijkt sterke anticorrelatie te zijn tussen aucs GC en aucs Sprint. Dit betekend dat wanneer de GC punten wordt gedomineerd door maar een paar renners, dat de sprint punten verdeeld zijn over meerdere verschillende renners. En als de GC punten verdeeld zijn over veel renners dat er meer sprinters dominant zijn.\n",
    "\n",
    "Deze observatie komt overeen met empirische observaties."
   ]
  },
  {
   "cell_type": "code",
   "execution_count": null,
   "metadata": {},
   "outputs": [],
   "source": [
    "tdf_races[0].stages[0].profile\n",
    "\n",
    "data = []\n",
    "for race in tdf_races:\n",
    "    profiles = [stage.profile.replace('icon profile p','') for stage in race.stages]\n",
    "    unique_profiles, profile_counts = np.unique(profiles, return_counts=True)\n",
    "    race_profile_counts = {profile: count for profile, count in zip(unique_profiles, profile_counts)}\n",
    "    race_profile_counts.update({\"year\": race.date.year})\n",
    "    data.append(race_profile_counts)\n",
    "\n",
    "tdf_profiles = pd.DataFrame(data=data).set_index('year')\n",
    "tdf_profiles.columns\n",
    "tdf_profiles['climb'] = tdf_profiles['4'] + tdf_profiles['5']\n",
    "tdf_profiles['sprint'] = tdf_profiles['1'] + tdf_profiles['2']\n"
   ]
  },
  {
   "cell_type": "code",
   "execution_count": null,
   "metadata": {},
   "outputs": [],
   "source": [
    "tdf_race_stats = tdf_profiles.join(tdf_category_dominance)\n",
    "tdf_race_stats.corr()"
   ]
  },
  {
   "cell_type": "code",
   "execution_count": null,
   "metadata": {},
   "outputs": [],
   "source": [
    "tdf_2024_profile_counts = [8, 4, 1, 3, 5]"
   ]
  },
  {
   "cell_type": "markdown",
   "metadata": {},
   "source": [
    "There are more sprint stages than normal in 2024. Hence, we may expect a slightly more flat sprint point distribution and slightly more concentrated total point distribution.\n",
    "\n",
    "There are slightly less mountain stages than normal, hence we may expect a slightly more concentrated total point distribution."
   ]
  }
 ],
 "metadata": {
  "kernelspec": {
   "display_name": "tdf-pool",
   "language": "python",
   "name": "python3"
  },
  "language_info": {
   "codemirror_mode": {
    "name": "ipython",
    "version": 3
   },
   "file_extension": ".py",
   "mimetype": "text/x-python",
   "name": "python",
   "nbconvert_exporter": "python",
   "pygments_lexer": "ipython3",
   "version": "3.11.9"
  }
 },
 "nbformat": 4,
 "nbformat_minor": 2
}
